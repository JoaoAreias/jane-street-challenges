{
  "nbformat": 4,
  "nbformat_minor": 0,
  "metadata": {
    "colab": {
      "private_outputs": true,
      "provenance": []
    },
    "kernelspec": {
      "name": "python3",
      "display_name": "Python 3"
    },
    "language_info": {
      "name": "python"
    }
  },
  "cells": [
    {
      "cell_type": "code",
      "source": [
        "import networkx as nx\n",
        "\n",
        "# Create the graph\n",
        "g = nx.Graph()\n",
        "\n",
        "# Add the edges and weights\n",
        "g.add_edge(0, 1, weight=2)\n",
        "g.add_edge(0, 3, weight=15)\n",
        "g.add_edge(1, 4, weight=1)\n",
        "g.add_edge(2, 6, weight=21)\n",
        "g.add_edge(3, 4, weight=12)\n",
        "g.add_edge(3, 6, weight=9)\n",
        "g.add_edge(4, 8, weight=18)\n",
        "g.add_edge(5, 8, weight=8)\n",
        "g.add_edge(6, 9, weight=14)\n",
        "g.add_edge(6, 10, weight=10)\n",
        "g.add_edge(7, 10, weight=6)\n",
        "g.add_edge(8, 10, weight=3)\n",
        "g.add_edge(8, 11, weight=20)\n",
        "g.add_edge(9, 10, weight=24)\n",
        "g.add_edge(9, 12, weight=11)\n",
        "g.add_edge(9, 13, weight=7)\n",
        "g.add_edge(10, 11, weight=17)\n",
        "g.add_edge(11, 14, weight=16)\n",
        "g.add_edge(12, 13, weight=13)\n",
        "g.add_edge(12, 14, weight=5)\n",
        "g.add_edge(13, 15, weight=19)\n",
        "g.add_edge(14, 15, weight=4)"
      ],
      "metadata": {
        "id": "VgsXye5mnmi_"
      },
      "execution_count": null,
      "outputs": []
    },
    {
      "cell_type": "code",
      "source": [
        "# Position the nodes using a layout\n",
        "pos = nx.planar_layout(g)\n",
        "\n",
        "# Draw the nodes\n",
        "nx.draw(g, pos, with_labels=True, node_color='skyblue', node_size=700)\n",
        "\n",
        "# Draw the edges with labels for the weights\n",
        "edge_labels = nx.get_edge_attributes(g, 'weight')\n",
        "nx.draw_networkx_edge_labels(g, pos, edge_labels=edge_labels)\n",
        "\n",
        "# Show the plot\n",
        "plt.show()"
      ],
      "metadata": {
        "id": "P5m8kGrl1j2G"
      },
      "execution_count": null,
      "outputs": []
    },
    {
      "cell_type": "code",
      "source": [
        "path = nx.shortest_path(g, source=4, target=15, weight='weight')\n",
        "path"
      ],
      "metadata": {
        "id": "UOGsiMM316Vf"
      },
      "execution_count": null,
      "outputs": []
    },
    {
      "cell_type": "code",
      "source": [
        "message = [12, 9, 14, 11, 5, 4]\n",
        "\"\".join(map(\n",
        "    lambda x: chr(ord('a') + x - 1),\n",
        "    message\n",
        "))"
      ],
      "metadata": {
        "id": "3xjutP3c7OpY"
      },
      "execution_count": null,
      "outputs": []
    },
    {
      "cell_type": "code",
      "source": [],
      "metadata": {
        "id": "gO51IkLT7zj1"
      },
      "execution_count": null,
      "outputs": []
    }
  ]
}